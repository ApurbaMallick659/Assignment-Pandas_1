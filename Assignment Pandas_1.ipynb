{
 "cells": [
  {
   "cell_type": "code",
   "execution_count": 5,
   "id": "5cc08e1f",
   "metadata": {},
   "outputs": [
    {
     "name": "stdout",
     "output_type": "stream",
     "text": [
      "0     4\n",
      "1     8\n",
      "2    15\n",
      "3    16\n",
      "4    23\n",
      "5    42\n",
      "dtype: int64\n",
      "<class 'pandas.core.series.Series'>\n"
     ]
    }
   ],
   "source": [
    "import pandas as pd\n",
    "\n",
    "#Q.1 Create a Pandas Series that contains the following data: 4, 8, 15, 16, 23, and 42. Then, print the series.\n",
    "\n",
    "\n",
    "# create and display the series\n",
    "s=pd.Series([4,8,15,16,23,42])\n",
    "print(s)\n",
    "\n",
    "# find the datatype of s\n",
    "print(type(s))"
   ]
  },
  {
   "cell_type": "code",
   "execution_count": 7,
   "id": "8e72842a",
   "metadata": {},
   "outputs": [
    {
     "name": "stdout",
     "output_type": "stream",
     "text": [
      "0           25\n",
      "1           47\n",
      "2         True\n",
      "3        89.57\n",
      "4        Delhi\n",
      "5      29.9999\n",
      "6       Sachin\n",
      "7            9\n",
      "8    [2, 3, 1]\n",
      "9        False\n",
      "dtype: object\n",
      "<class 'pandas.core.series.Series'>\n"
     ]
    }
   ],
   "source": [
    "# Q.2 Create a variable of list type containing 10 elements in it, and apply pandas.Series function on the variable print it.\n",
    "\n",
    "\n",
    "#create the list\n",
    "l1=[25,47,True,89.57,'Delhi',29.9999,'Sachin',9,[2,3,1],False]\n",
    "\n",
    "# convert  the list to series\n",
    "s1=pd.Series(l1)\n",
    "print (s1)\n",
    "\n",
    "# find the datatype of s1\n",
    "print(type(s1))"
   ]
  },
  {
   "cell_type": "code",
   "execution_count": 8,
   "id": "071da9ed",
   "metadata": {},
   "outputs": [
    {
     "name": "stdout",
     "output_type": "stream",
     "text": [
      "     Name  Age  Gender\n",
      "0   Alice   25  Female\n",
      "1     Bob   30    Male\n",
      "2  Claire   27  Female\n",
      "<class 'dict'>\n"
     ]
    }
   ],
   "source": [
    "\n",
    "# Q.3 create the pandas dataframe\n",
    "\n",
    "#create a dictionary of the data\n",
    "data={'Name':['Alice','Bob','Claire'],'Age':[25,30,27],'Gender':['Female','Male','Female']}\n",
    "\n",
    "# convert the dictionary  to dataframe\n",
    "data1=pd.DataFrame(data)\n",
    "print(data1)\n",
    "\n",
    "# identify  the datetype of data1\n",
    "print(type(data))\n"
   ]
  },
  {
   "cell_type": "code",
   "execution_count": 10,
   "id": "889086bd",
   "metadata": {},
   "outputs": [
    {
     "name": "stdout",
     "output_type": "stream",
     "text": [
      "   a   b        c\n",
      "0  1  45    delhi\n",
      "1  2  40   mumbai\n",
      "2  3  30  kolkata\n",
      "0      delhi\n",
      "1     mumbai\n",
      "2    kolkata\n",
      "Name: c, dtype: object\n",
      "<class 'pandas.core.frame.DataFrame'>\n",
      "<class 'pandas.core.series.Series'>\n"
     ]
    }
   ],
   "source": [
    "# Q.4 What is ‘DataFrame’ in pandas and how is it different from pandas.series? Explain with an example.\n",
    "\n",
    "'''A DataFrame is a 2-dimensional data structure designed for handling tabular data with multiple columns, \n",
    "while a Series is a 1-dimensional data structure used to represent a single column or row of data within a DataFrame \n",
    "or as a standalone data structure'''\n",
    "\n",
    "'''dataframe have multiple rows and multiple columns that is why it is two diamentional\n",
    "   and series have only one row and one column that is why  it is one diamentional'''\n",
    "\n",
    "'''the example is as follow:-'''\n",
    "\n",
    "# it is dictionary\n",
    "df={'a':[1,2,3],'b':[45,40,30],'c':['delhi','mumbai','kolkata']}\n",
    "\n",
    "# defining the dataframe\n",
    "dframe=pd.DataFrame(df)\n",
    "# defining a column 'c' from the dataframe 'dframe' which is a series\n",
    "sries=dframe['c']\n",
    "\n",
    "#it is a dataframe which have multiple rows and multiple columns\n",
    "print(dframe)\n",
    "#it is a series which have only one row and one column\n",
    "print(sries)\n",
    "\n",
    "\n",
    "print(type(dframe))\n",
    "print(type(sries))\n"
   ]
  },
  {
   "cell_type": "code",
   "execution_count": 21,
   "id": "c660ebea",
   "metadata": {},
   "outputs": [
    {
     "name": "stdout",
     "output_type": "stream",
     "text": [
      "Index(['PassengerId', 'Survived', 'Pclass', 'Name', 'Sex', 'Age', 'SibSp',\n",
      "       'Parch', 'Ticket', 'Fare', 'Cabin', 'Embarked'],\n",
      "      dtype='object')\n",
      "Pclass\n",
      "3    491\n",
      "1    216\n",
      "2    184\n",
      "Name: count, dtype: int64\n",
      "[3 1 2]\n"
     ]
    }
   ],
   "source": [
    "# Q.5 What are some common functions you can use to manipulate data in a Pandas DataFrame? Can\n",
    "#    you give an example of when you might use one of these functions?\n",
    "\n",
    "''' common function used for dataframe is \n",
    "head():- used to show the top 5 rows of a dataframe by default,\n",
    "tail():-used to show the last 5 rows of a dataframe by default,\n",
    "list():- show the dataframe columns as a list,\n",
    "describe():- statistical analysis of the numerical column exsist in a particular dataframe,\n",
    "categorical()- find the unique data available in a particular column of a dataframe,\n",
    "unique():- this also find the unique data available in a column but it will not show the no of unique values  '''\n",
    "import pandas as pd\n",
    "\n",
    "# this is Titanic dataset\n",
    "df1 = pd.read_csv(\"https://raw.githubusercontent.com/datasciencedojo/datasets/master/titanic.csv\")\n",
    "\n",
    "# list of columns\n",
    "print(df1.columns)\n",
    "\n",
    "# categorical data with the count\n",
    "print(df1['Pclass'].value_counts())\n",
    "\n",
    "# unique values only\n",
    "print(df1['Pclass'].unique())\n"
   ]
  },
  {
   "cell_type": "code",
   "execution_count": 16,
   "id": "1daf513c",
   "metadata": {},
   "outputs": [
    {
     "data": {
      "text/plain": [
       "'The series dataframe panel datatype is mutabale we can modify the data in it\\nbut the size of those datatype can not be changed. where as the Panel is removed from the pandas in the latest  version of python 3'"
      ]
     },
     "execution_count": 16,
     "metadata": {},
     "output_type": "execute_result"
    }
   ],
   "source": [
    "# Q6. Which of the following is mutable in nature Series, DataFrame, Panel?\n",
    "\n",
    "'''The series dataframe panel datatype is mutabale we can modify the data in it\n",
    "but the size of those datatype can not be changed. where as the Panel is removed from the pandas in the latest  version of python 3'''"
   ]
  },
  {
   "cell_type": "code",
   "execution_count": 14,
   "id": "04368538",
   "metadata": {},
   "outputs": [
    {
     "name": "stdout",
     "output_type": "stream",
     "text": [
      "          Name  Age  Run\n",
      "Player1  Rohit   34   74\n",
      "Player2  Virat   35   84\n",
      "Player3  Dhoni   37  120\n"
     ]
    }
   ],
   "source": [
    "# Q.7 Create a DataFrame using multiple Series. Explain with an example.\n",
    "\n",
    "\n",
    "Name=pd.Series(['Rohit','Virat','Dhoni'])\n",
    "\n",
    "Age=pd.Series([34,35,37])\n",
    "\n",
    "Run=pd.Series([74,84,120])\n",
    "\n",
    "Name = pd.Series(['Rohit', 'Virat', 'Dhoni'])\n",
    "Age = pd.Series([34, 35, 37])\n",
    "Run = pd.Series([74, 84, 120])\n",
    "\n",
    "# Creating a DataFrame with specified index\n",
    "India = pd.DataFrame({'Name': Name.values, 'Age': Age.values, 'Run': Run.values}, index=['Player1', 'Player2', 'Player3'])\n",
    "\n",
    "print(India)"
   ]
  },
  {
   "cell_type": "code",
   "execution_count": null,
   "id": "e33b2401",
   "metadata": {},
   "outputs": [],
   "source": []
  }
 ],
 "metadata": {
  "kernelspec": {
   "display_name": "Python 3 (ipykernel)",
   "language": "python",
   "name": "python3"
  },
  "language_info": {
   "codemirror_mode": {
    "name": "ipython",
    "version": 3
   },
   "file_extension": ".py",
   "mimetype": "text/x-python",
   "name": "python",
   "nbconvert_exporter": "python",
   "pygments_lexer": "ipython3",
   "version": "3.11.5"
  }
 },
 "nbformat": 4,
 "nbformat_minor": 5
}
